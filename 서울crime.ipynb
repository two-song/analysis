{
 "cells": [
  {
   "cell_type": "code",
   "execution_count": 15,
   "id": "b4f7350a-829f-4bdd-9033-0ef9599d20ed",
   "metadata": {
    "tags": []
   },
   "outputs": [],
   "source": [
    "import pandas as pd\n",
    "import numpy as np"
   ]
  },
  {
   "cell_type": "code",
   "execution_count": 16,
   "id": "c0aae6a1-72c6-4d00-a642-f54e7975b8a3",
   "metadata": {
    "tags": []
   },
   "outputs": [],
   "source": [
    "crime = pd.read_csv('5대+범죄+발생현황_20240314004013.csv')"
   ]
  },
  {
   "cell_type": "code",
   "execution_count": 17,
   "id": "f1b0a2ed-1275-4c1a-8c6d-998bd9155bec",
   "metadata": {
    "tags": []
   },
   "outputs": [
    {
     "data": {
      "text/html": [
       "<div>\n",
       "<style scoped>\n",
       "    .dataframe tbody tr th:only-of-type {\n",
       "        vertical-align: middle;\n",
       "    }\n",
       "\n",
       "    .dataframe tbody tr th {\n",
       "        vertical-align: top;\n",
       "    }\n",
       "\n",
       "    .dataframe thead th {\n",
       "        text-align: right;\n",
       "    }\n",
       "</style>\n",
       "<table border=\"1\" class=\"dataframe\">\n",
       "  <thead>\n",
       "    <tr style=\"text-align: right;\">\n",
       "      <th></th>\n",
       "      <th>시점</th>\n",
       "      <th>항목</th>\n",
       "      <th>범죄별(1)</th>\n",
       "      <th>범죄별(2)</th>\n",
       "      <th>자치구별(1)</th>\n",
       "      <th>자치구별(2)</th>\n",
       "      <th>데이터</th>\n",
       "    </tr>\n",
       "  </thead>\n",
       "  <tbody>\n",
       "    <tr>\n",
       "      <th>0</th>\n",
       "      <td>2018</td>\n",
       "      <td>발생</td>\n",
       "      <td>합계</td>\n",
       "      <td>살인</td>\n",
       "      <td>합계</td>\n",
       "      <td>종로구</td>\n",
       "      <td>6</td>\n",
       "    </tr>\n",
       "    <tr>\n",
       "      <th>1</th>\n",
       "      <td>2018</td>\n",
       "      <td>발생</td>\n",
       "      <td>합계</td>\n",
       "      <td>살인</td>\n",
       "      <td>합계</td>\n",
       "      <td>중구</td>\n",
       "      <td>2</td>\n",
       "    </tr>\n",
       "    <tr>\n",
       "      <th>2</th>\n",
       "      <td>2018</td>\n",
       "      <td>발생</td>\n",
       "      <td>합계</td>\n",
       "      <td>살인</td>\n",
       "      <td>합계</td>\n",
       "      <td>용산구</td>\n",
       "      <td>1</td>\n",
       "    </tr>\n",
       "    <tr>\n",
       "      <th>3</th>\n",
       "      <td>2018</td>\n",
       "      <td>발생</td>\n",
       "      <td>합계</td>\n",
       "      <td>살인</td>\n",
       "      <td>합계</td>\n",
       "      <td>성동구</td>\n",
       "      <td>2</td>\n",
       "    </tr>\n",
       "    <tr>\n",
       "      <th>4</th>\n",
       "      <td>2018</td>\n",
       "      <td>발생</td>\n",
       "      <td>합계</td>\n",
       "      <td>살인</td>\n",
       "      <td>합계</td>\n",
       "      <td>광진구</td>\n",
       "      <td>7</td>\n",
       "    </tr>\n",
       "  </tbody>\n",
       "</table>\n",
       "</div>"
      ],
      "text/plain": [
       "     시점  항목 범죄별(1) 범죄별(2) 자치구별(1) 자치구별(2) 데이터\n",
       "0  2018  발생     합계     살인      합계     종로구   6\n",
       "1  2018  발생     합계     살인      합계      중구   2\n",
       "2  2018  발생     합계     살인      합계     용산구   1\n",
       "3  2018  발생     합계     살인      합계     성동구   2\n",
       "4  2018  발생     합계     살인      합계     광진구   7"
      ]
     },
     "execution_count": 17,
     "metadata": {},
     "output_type": "execute_result"
    }
   ],
   "source": [
    "crime.head()"
   ]
  },
  {
   "cell_type": "code",
   "execution_count": 21,
   "id": "4c1c829a-0ea0-474c-8429-4cdb33ae8c44",
   "metadata": {
    "tags": []
   },
   "outputs": [
    {
     "data": {
      "text/plain": [
       "array(['합계'], dtype=object)"
      ]
     },
     "execution_count": 21,
     "metadata": {},
     "output_type": "execute_result"
    }
   ],
   "source": [
    "crime['범죄별(1)'].unique()"
   ]
  },
  {
   "cell_type": "code",
   "execution_count": 24,
   "id": "3d6e2432-1730-4841-926a-c9794662fa15",
   "metadata": {
    "tags": []
   },
   "outputs": [
    {
     "data": {
      "text/plain": [
       "array(['서울특별시'], dtype=object)"
      ]
     },
     "execution_count": 24,
     "metadata": {},
     "output_type": "execute_result"
    }
   ],
   "source": [
    "crime['자치구별(1)'].unique()"
   ]
  },
  {
   "cell_type": "code",
   "execution_count": 23,
   "id": "3f224c8c-e3cf-48fb-a48b-664b07fa9a99",
   "metadata": {
    "tags": []
   },
   "outputs": [],
   "source": [
    "crime[crime['자치구별(1)']=='합계'] = '서울특별시'"
   ]
  },
  {
   "cell_type": "code",
   "execution_count": 26,
   "id": "ce3604d0-a20a-4946-80b2-7bcc4bbf8e43",
   "metadata": {
    "tags": []
   },
   "outputs": [],
   "source": [
    "crime.drop(columns='범죄별(1)',inplace=True)"
   ]
  },
  {
   "cell_type": "code",
   "execution_count": 27,
   "id": "fe2d47fb-6453-4b79-b19e-67847c06efd3",
   "metadata": {
    "tags": []
   },
   "outputs": [
    {
     "name": "stdout",
     "output_type": "stream",
     "text": [
      "<class 'pandas.core.frame.DataFrame'>\n",
      "RangeIndex: 1250 entries, 0 to 1249\n",
      "Data columns (total 6 columns):\n",
      " #   Column   Non-Null Count  Dtype \n",
      "---  ------   --------------  ----- \n",
      " 0   시점       1250 non-null   object\n",
      " 1   항목       1250 non-null   object\n",
      " 2   범죄별(2)   1250 non-null   object\n",
      " 3   자치구별(1)  1250 non-null   object\n",
      " 4   자치구별(2)  1250 non-null   object\n",
      " 5   데이터      1250 non-null   object\n",
      "dtypes: object(6)\n",
      "memory usage: 58.7+ KB\n"
     ]
    }
   ],
   "source": [
    "crime.info()"
   ]
  },
  {
   "cell_type": "code",
   "execution_count": 28,
   "id": "0e11fcda-de9e-4eb8-9b7e-3852cc441fb6",
   "metadata": {
    "tags": []
   },
   "outputs": [],
   "source": [
    "crime.to_csv('crime_tableau')"
   ]
  },
  {
   "cell_type": "code",
   "execution_count": null,
   "id": "7f67c946-4ba9-4470-b8c0-7f9488702cc8",
   "metadata": {},
   "outputs": [],
   "source": []
  }
 ],
 "metadata": {
  "kernelspec": {
   "display_name": "Python 3 (ipykernel)",
   "language": "python",
   "name": "python3"
  },
  "language_info": {
   "codemirror_mode": {
    "name": "ipython",
    "version": 3
   },
   "file_extension": ".py",
   "mimetype": "text/x-python",
   "name": "python",
   "nbconvert_exporter": "python",
   "pygments_lexer": "ipython3",
   "version": "3.11.3"
  }
 },
 "nbformat": 4,
 "nbformat_minor": 5
}
