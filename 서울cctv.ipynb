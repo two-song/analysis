{
 "cells": [
  {
   "cell_type": "code",
   "execution_count": null,
   "id": "46ca16be-5961-47be-a091-8163365dc355",
   "metadata": {
    "tags": []
   },
   "outputs": [],
   "source": [
    "import pandas as pd\n",
    "import numpy as np"
   ]
  },
  {
   "cell_type": "code",
   "execution_count": null,
   "id": "c7d2f850-b776-43f4-a1bf-7c01f86d6833",
   "metadata": {
    "tags": []
   },
   "outputs": [],
   "source": [
    "# 데이터 불러오기"
   ]
  },
  {
   "cell_type": "code",
   "execution_count": null,
   "id": "0ffc520e-fa3d-4901-b73c-f6b7f1d7a0c5",
   "metadata": {
    "tags": []
   },
   "outputs": [],
   "source": [
    "cctv = pd.read_csv('서울cctv.csv')"
   ]
  },
  {
   "cell_type": "code",
   "execution_count": null,
   "id": "f538d453-52ac-4215-98a2-88bd18997274",
   "metadata": {
    "tags": []
   },
   "outputs": [],
   "source": [
    "pop = pd.read_csv('서울인구.csv')"
   ]
  },
  {
   "cell_type": "code",
   "execution_count": null,
   "id": "54c5aa5d-729a-4208-9778-5c7ee21875be",
   "metadata": {
    "tags": []
   },
   "outputs": [],
   "source": [
    "crime = pd.read_csv('서울범죄.csv',encoding='utf-8')"
   ]
  },
  {
   "cell_type": "code",
   "execution_count": null,
   "id": "301838e3-521e-4096-b2f4-de0d121e19b1",
   "metadata": {
    "tags": []
   },
   "outputs": [],
   "source": [
    "cctv.head()"
   ]
  },
  {
   "cell_type": "code",
   "execution_count": null,
   "id": "af460656-0f68-4ad5-be3d-e51bc97bd15a",
   "metadata": {
    "tags": []
   },
   "outputs": [],
   "source": [
    "pop.head()"
   ]
  },
  {
   "cell_type": "code",
   "execution_count": null,
   "id": "47f1bbdb-5da2-4a0e-982f-6cbe5b980991",
   "metadata": {
    "tags": []
   },
   "outputs": [],
   "source": [
    "# 컬럼명 변경\n",
    "\n",
    "pop.rename(columns = {'동별(2)':'자치구', '구분별(1)':'국적', '구분별(2)':'성별', '데이터':'인구수'}, inplace=True)"
   ]
  },
  {
   "cell_type": "code",
   "execution_count": null,
   "id": "6aed954f-c067-432b-b810-043e72e8c7bf",
   "metadata": {
    "tags": []
   },
   "outputs": [],
   "source": [
    "crime.head()"
   ]
  },
  {
   "cell_type": "code",
   "execution_count": null,
   "id": "55b6c360-74bf-48c5-8074-22de67efe84a",
   "metadata": {
    "tags": []
   },
   "outputs": [],
   "source": [
    "# 필요없는 컬럼 삭제\n",
    "\n",
    "cctv.drop(columns = ['수정 일시'], inplace=True)\n",
    "pop.drop(columns = ['시점'], inplace=True)"
   ]
  },
  {
   "cell_type": "code",
   "execution_count": null,
   "id": "5268a983-728a-4161-896f-58a414ea80e5",
   "metadata": {},
   "outputs": [],
   "source": [
    "pop['동별(1)'].unique()"
   ]
  },
  {
   "cell_type": "code",
   "execution_count": null,
   "id": "68428ffa-5193-446c-8dc4-7fb586263761",
   "metadata": {},
   "outputs": [],
   "source": [
    "pop.drop(columns = ['동별(1)'], inplace=True)"
   ]
  },
  {
   "cell_type": "code",
   "execution_count": null,
   "id": "c50442cd-5a8c-4289-a53b-d12337be08ed",
   "metadata": {
    "tags": []
   },
   "outputs": [],
   "source": [
    "cctv.info()"
   ]
  },
  {
   "cell_type": "code",
   "execution_count": null,
   "id": "a221964d-b1a7-43c2-adc1-7e3332e875ec",
   "metadata": {
    "tags": []
   },
   "outputs": [],
   "source": [
    "pop.info()"
   ]
  },
  {
   "cell_type": "code",
   "execution_count": null,
   "id": "fe47c847-b592-42fa-8f57-2eeebd94c44b",
   "metadata": {
    "tags": []
   },
   "outputs": [],
   "source": [
    "crime.info()"
   ]
  },
  {
   "cell_type": "code",
   "execution_count": null,
   "id": "a7e77bd6-048d-46e5-819c-b92b7cb4cc90",
   "metadata": {
    "tags": []
   },
   "outputs": [],
   "source": [
    "crime['구분'].unique()"
   ]
  },
  {
   "cell_type": "code",
   "execution_count": null,
   "id": "51a0dc06-7026-4503-a4a5-c2b3fe8ac00e",
   "metadata": {},
   "outputs": [],
   "source": [
    "crime.rename(columns={'구분':'관서'}, inplace=True)"
   ]
  },
  {
   "cell_type": "code",
   "execution_count": null,
   "id": "64cf90a5-3d40-4ed2-bb7f-2c89f0aae9e2",
   "metadata": {
    "tags": []
   },
   "outputs": [],
   "source": [
    "# crime데이터에 자치구 정보 추가를 위한 경찰서 정보 데이터 불러오기\n",
    "\n",
    "pol = pd.read_csv('서울경찰서.csv')"
   ]
  },
  {
   "cell_type": "code",
   "execution_count": null,
   "id": "ba54e6f1-1a63-42a8-9c0d-64720d9232ba",
   "metadata": {
    "tags": []
   },
   "outputs": [],
   "source": [
    "pol.head()"
   ]
  },
  {
   "cell_type": "code",
   "execution_count": null,
   "id": "fb4e2d4e-10e6-4590-8b2a-515428894332",
   "metadata": {
    "tags": []
   },
   "outputs": [],
   "source": [
    "# 관서명 변경"
   ]
  },
  {
   "cell_type": "code",
   "execution_count": null,
   "id": "75ccbf5e-6d9c-40c9-962b-2b42256b131d",
   "metadata": {
    "tags": []
   },
   "outputs": [],
   "source": [
    "pol['관서'] = pol['관서'].str.replace('서울', '')\n",
    "pol['관서'] = pol['관서'].str.replace('경찰서', '')\n",
    "\n",
    "pol"
   ]
  },
  {
   "cell_type": "code",
   "execution_count": null,
   "id": "0bae1e9a-93c3-4740-a2b2-709f58870e8f",
   "metadata": {
    "tags": []
   },
   "outputs": [],
   "source": [
    "# 자치구 컬럼 생성"
   ]
  },
  {
   "cell_type": "code",
   "execution_count": null,
   "id": "1356d48a-eb6e-4d67-a8a3-30ebc1391b2c",
   "metadata": {
    "tags": []
   },
   "outputs": [],
   "source": [
    "pol['자치구'] = pol['주소'].str.split(' ').str[1]"
   ]
  },
  {
   "cell_type": "code",
   "execution_count": null,
   "id": "0ec3f835-1335-4589-a5b0-69cf0360d313",
   "metadata": {
    "tags": []
   },
   "outputs": [],
   "source": [
    "pol.drop(columns = ['주소'], inplace=True)"
   ]
  },
  {
   "cell_type": "code",
   "execution_count": null,
   "id": "a3bf1c8f-7190-4190-9e43-26347727eee5",
   "metadata": {
    "tags": []
   },
   "outputs": [],
   "source": [
    "# crime 데이터와 합치기"
   ]
  },
  {
   "cell_type": "code",
   "execution_count": null,
   "id": "2959f166-9839-435a-a72e-395436bc865e",
   "metadata": {
    "tags": []
   },
   "outputs": [],
   "source": [
    "crime = pd.merge(crime, pol, on = '관서')"
   ]
  },
  {
   "cell_type": "code",
   "execution_count": null,
   "id": "e490ad80-233e-48e4-8518-8f8cffb418ed",
   "metadata": {
    "tags": []
   },
   "outputs": [],
   "source": [
    "crime"
   ]
  },
  {
   "cell_type": "code",
   "execution_count": null,
   "id": "acabc64b-66b5-4986-a59b-fedd93231922",
   "metadata": {
    "tags": []
   },
   "outputs": [],
   "source": [
    "# pivot하여 데이터 정리\n",
    "crime.drop(columns = ['관서'], inplace=True)\n",
    "\n",
    "crime = crime.pivot_table(crime, index=['자치구'],\n",
    "                          columns=['죄종', '발생검거'],\n",
    "                          aggfunc=[np.sum])\n",
    "crime"
   ]
  },
  {
   "cell_type": "code",
   "execution_count": null,
   "id": "971b5af3-ba95-47b7-ba2c-4bc2f98b7c8e",
   "metadata": {},
   "outputs": [],
   "source": [
    "# Null값 0으로 대치\n",
    "\n",
    "crime = crime.fillna(0)\n",
    "crime.isnull().sum()"
   ]
  },
  {
   "cell_type": "code",
   "execution_count": null,
   "id": "8dfedfb0-f76f-4110-8ee3-fa9b52a72296",
   "metadata": {
    "tags": []
   },
   "outputs": [],
   "source": [
    "# sum, 건수 컬럼명 삭제\n",
    "\n",
    "crime.columns = crime.columns.droplevel([0, 1])\n",
    "crime.head()"
   ]
  },
  {
   "cell_type": "code",
   "execution_count": null,
   "id": "e8c96b60-9aa7-4ada-b4dd-6ddf9a0d4273",
   "metadata": {
    "tags": []
   },
   "outputs": [],
   "source": [
    "# 레벨0, 레벨1의 컬럼명을 합쳐 컬럼명 변경\n",
    "\n",
    "tmp = [\n",
    "    crime.columns.get_level_values(0)[n] + \" \"\n",
    "    + crime.columns.get_level_values(1)[n]\n",
    "    for n in range(0, len(crime.columns.get_level_values(0)))\n",
    "]\n",
    "crime.columns = tmp\n",
    "crime.head()"
   ]
  },
  {
   "cell_type": "code",
   "execution_count": null,
   "id": "1ef712dd-6183-4462-9154-4e31d28da971",
   "metadata": {
    "tags": []
   },
   "outputs": [],
   "source": [
    "# 검거율 계산\n",
    "\n",
    "target = [\"강간 검거율\", \"강간,추행 검거율\", \"강도 검거율\", \"살인 검거율\", \"절도 검거율\", \"폭력 검거율\"]\n",
    "num = [\"강간 검거\", \"강간,추행 검거\", \"강도 검거\", \"살인 검거\", \"절도 검거\", \"폭력 검거\"]\n",
    "den = [\"강간 발생\", \"강간,추행 발생\", \"강도 발생\", \"살인 발생\", \"절도 발생\", \"폭력 발생\"]\n",
    "\n",
    "crime[target] = crime[num].div(crime[den].values)\n",
    "crime.head()"
   ]
  },
  {
   "cell_type": "code",
   "execution_count": null,
   "id": "1c790d02-b518-410b-9403-04de083104d6",
   "metadata": {
    "tags": []
   },
   "outputs": [],
   "source": [
    "# 검거 삭제\n",
    "\n",
    "crime.drop(columns = [\"강간 검거\", \"강간,추행 검거\", \"강도 검거\", \"살인 검거\", \"절도 검거\", \"폭력 검거\"], inplace=True)"
   ]
  },
  {
   "cell_type": "code",
   "execution_count": null,
   "id": "5acb9bdb-5cb6-4c26-b3fb-d8d7acfcd58d",
   "metadata": {
    "tags": []
   },
   "outputs": [],
   "source": [
    "# 컬럼명 변경\n",
    "\n",
    "crime.rename(\n",
    "    columns={\"강간 발생\" : \"강간\", \"강간,추행 발생\" : \"강간,추행\", \"강도 발생\" : \"강도\", \"살인 발생\" : \"살인\", \"절도 발생\" : \"절도\", \"폭력 발생\" : \"폭력\"},\n",
    "    inplace=True\n",
    ")"
   ]
  },
  {
   "cell_type": "code",
   "execution_count": null,
   "id": "4d912a80-b9bb-4daa-9ca4-09e6f99a932c",
   "metadata": {
    "tags": []
   },
   "outputs": [],
   "source": [
    "crime"
   ]
  },
  {
   "cell_type": "code",
   "execution_count": null,
   "id": "7b70bb11-776c-44b4-bc79-47b32c62d69d",
   "metadata": {},
   "outputs": [],
   "source": [
    "col = [\"강간\", \"강간,추행\", \"강도\", \"살인\", \"절도\", \"폭력\"]\n",
    "col2 = [\"강간 검거율\", \"강간,추행 검거율\", \"강도 검거율\", \"살인 검거율\", \"절도 검거율\", \"폭력 검거율\"]\n",
    "\n",
    "# 사건 발생 수 최소-최대 정규화\n",
    "crime_norm = (crime[col]-crime[col].min())/(crime[col].max()-crime[col].min())\n",
    "crime_norm[col2] = crime[col2]\n",
    "crime_norm.head()"
   ]
  },
  {
   "cell_type": "code",
   "execution_count": null,
   "id": "79b7d0c3-f163-44d7-9a71-b27d9bb0215c",
   "metadata": {
    "tags": []
   },
   "outputs": [],
   "source": [
    "# 검거율 DF\n",
    "\n",
    "crime_rate = crime_norm.drop(columns = [\"강간\", \"강간,추행\", \"강도\", \"살인\", \"절도\", \"폭력\"])"
   ]
  },
  {
   "cell_type": "code",
   "execution_count": null,
   "id": "44633de8-2e33-4f39-9c9d-ee1279f37600",
   "metadata": {
    "tags": []
   },
   "outputs": [],
   "source": [
    "crime_rate"
   ]
  },
  {
   "cell_type": "code",
   "execution_count": null,
   "id": "613394d4-95b2-4466-adb2-a67ed552023b",
   "metadata": {
    "tags": []
   },
   "outputs": [],
   "source": [
    "# 자치구별 검거율 히트맵\n",
    "\n",
    "import seaborn as sns\n",
    "import matplotlib.pyplot as plt\n",
    "import platform\n",
    "\n",
    "from matplotlib import font_manager, rc\n",
    "plt.rcParams['axes.unicode_minus'] = False\n",
    "\n",
    "if platform.system() == 'Darwin':\n",
    "    rc('font', family='AppleGothic')\n",
    "elif platform.system() == 'Windows':\n",
    "    path = \"c:/Windows/Fonts/malgun.ttf\"\n",
    "    font_name = font_manager.FontProperties(fname=path).get_name()\n",
    "    rc('font', family=font_name)\n",
    "else:\n",
    "    print('Unknown system... sorry~~~~') \n",
    "\n",
    "\n",
    "plt.figure(figsize=(10, 8))\n",
    "sns.heatmap(crime_rate, annot=False, cmap=\"YlGnBu\")\n",
    "plt.show()"
   ]
  },
  {
   "cell_type": "code",
   "execution_count": null,
   "id": "f476f370-6ed1-412c-a895-f2130e16b488",
   "metadata": {
    "tags": []
   },
   "outputs": [],
   "source": [
    "cctv"
   ]
  },
  {
   "cell_type": "code",
   "execution_count": null,
   "id": "d4802ab5-0bec-4838-9068-93a9a73e6f17",
   "metadata": {},
   "outputs": [],
   "source": [
    "cctv = cctv.groupby('자치구').sum()"
   ]
  },
  {
   "cell_type": "code",
   "execution_count": null,
   "id": "cbf5ce29-5792-41db-8e88-c4937a9005ae",
   "metadata": {
    "tags": []
   },
   "outputs": [],
   "source": [
    "# cctv 데이터 주소, 위도, 경도 컬럼 삭제\n",
    "\n",
    "cctv.drop(columns = [\"안심 주소\", \"위도\", \"경도\"], inplace=True)"
   ]
  },
  {
   "cell_type": "code",
   "execution_count": null,
   "id": "dc7cb9c9-b67a-4d8a-9805-398c9942a9c2",
   "metadata": {
    "tags": []
   },
   "outputs": [],
   "source": [
    "cctv"
   ]
  },
  {
   "cell_type": "code",
   "execution_count": null,
   "id": "7f598c56-b553-4303-8014-c941e7d0c93f",
   "metadata": {
    "tags": []
   },
   "outputs": [],
   "source": [
    "# 인구수 데이터 국적, 성별 컬럼 삭제\n",
    "\n",
    "pop = pop.groupby('자치구').sum()\n",
    "pop.drop(columns = [\"국적\", \"성별\"], inplace=True)\n",
    "pop"
   ]
  },
  {
   "cell_type": "code",
   "execution_count": null,
   "id": "023380d4-fb21-41fa-8af9-45b014164004",
   "metadata": {
    "tags": []
   },
   "outputs": [],
   "source": [
    "# cctv 데이터와 인구수 데이터 합치기\n",
    "\n",
    "seoul = pd.merge(cctv, pop, on='자치구')"
   ]
  },
  {
   "cell_type": "code",
   "execution_count": null,
   "id": "67d078d4-d868-4970-aec1-ebc83a6fe7e5",
   "metadata": {
    "tags": []
   },
   "outputs": [],
   "source": [
    "seoul"
   ]
  },
  {
   "cell_type": "code",
   "execution_count": null,
   "id": "3dbfe379-266f-4321-b349-707437017078",
   "metadata": {
    "tags": []
   },
   "outputs": [],
   "source": [
    "fp1 = np.polyfit(seoul['인구수'], seoul['CCTV 수량'], 1)\n",
    "\n",
    "f1 = np.poly1d(fp1)\n",
    "fx = np.linspace(100000, 700000, 100)\n",
    "\n",
    "plt.figure(figsize=(14, 10))\n",
    "plt.scatter(seoul['인구수'], seoul['CCTV 수량'], s=50)\n",
    "plt.plot(fx, f1(fx), ls='dashed', lw=3, color='g')\n",
    "plt.xlabel('인구수')\n",
    "plt.ylabel('CCTV 수량')\n",
    "for n in range(25):\n",
    "    plt.text(seoul['인구수'][n], seoul['CCTV 수량'][n], seoul.index[n], fontsize=10)\n",
    "plt.grid()\n",
    "plt.show()"
   ]
  },
  {
   "cell_type": "markdown",
   "id": "a153ef05-f19c-407b-9f41-5417fdfd346e",
   "metadata": {},
   "source": [
    "* 인구수가 많을수록 CCTV수량이 많은 것으로 보임"
   ]
  },
  {
   "cell_type": "code",
   "execution_count": null,
   "id": "512c5ed8-f7f7-49d6-9aa5-4156bf188daf",
   "metadata": {
    "tags": []
   },
   "outputs": [],
   "source": [
    "# 상관계수\n",
    "\n",
    "seoul.corr()"
   ]
  },
  {
   "cell_type": "code",
   "execution_count": null,
   "id": "b7a729cd-9401-46f4-bb09-08b7bf0244de",
   "metadata": {
    "tags": []
   },
   "outputs": [],
   "source": [
    "# 범죄 데이터와 합치기\n",
    "\n",
    "seoul_crime = pd.merge(seoul, crime_norm, on='자치구')"
   ]
  },
  {
   "cell_type": "code",
   "execution_count": null,
   "id": "3c312680-d8e3-4fae-9d25-d15be0083549",
   "metadata": {
    "tags": []
   },
   "outputs": [],
   "source": [
    "seoul_crime"
   ]
  },
  {
   "cell_type": "code",
   "execution_count": null,
   "id": "78452724-d9c4-4635-926e-054aacd65b44",
   "metadata": {
    "tags": []
   },
   "outputs": [],
   "source": [
    "y1 = seoul_crime[\"강도 검거율\"]\n",
    "y2 = seoul_crime[\"강도\"]\n",
    "\n",
    "\n",
    "plt.plot(seoul_crime.index, y1, color = 'red')\n",
    "plt.plot(seoul_crime.index, y2, color = 'blue')\n",
    "\n",
    "plt.show()"
   ]
  },
  {
   "cell_type": "code",
   "execution_count": null,
   "id": "67c0b359-395b-4d78-88d4-8f4f5c58cf29",
   "metadata": {
    "tags": []
   },
   "outputs": [],
   "source": [
    "crime_norm.corr()"
   ]
  },
  {
   "cell_type": "code",
   "execution_count": null,
   "id": "5e081be4-177e-425a-a9d9-bab1d431213c",
   "metadata": {
    "tags": []
   },
   "outputs": [],
   "source": [
    "plt.figure(figsize=(10, 8))\n",
    "sns.heatmap(crime_norm.corr(), cmap = \"RdBu_r\", annot=False)\n",
    "plt.show()"
   ]
  },
  {
   "cell_type": "code",
   "execution_count": null,
   "id": "7e1bb835-2b0d-4e50-8d43-55f9bd30846c",
   "metadata": {},
   "outputs": [],
   "source": [
    "sns.pairplot(seoul_crime, vars=[\"인구수\",\"CCTV 수량\",\"강도 검거율\"], kind=\"reg\", height=3)\n",
    "plt.show()"
   ]
  },
  {
   "cell_type": "code",
   "execution_count": null,
   "id": "0982ad90-09ca-4862-9c19-cd24bfa45e9d",
   "metadata": {
    "tags": []
   },
   "outputs": [],
   "source": [
    "sns.pairplot(seoul_crime, vars=[\"인구수\",\"CCTV 수량\",\"살인 검거율\"], kind=\"reg\", height=3)\n",
    "plt.show()"
   ]
  },
  {
   "cell_type": "code",
   "execution_count": null,
   "id": "2673cabe-1345-456c-908e-3dea2d6b908c",
   "metadata": {
    "tags": []
   },
   "outputs": [],
   "source": [
    "sns.pairplot(seoul_crime, vars=[\"인구수\",\"CCTV 수량\",\"폭력 검거율\"], kind=\"reg\", height=3)\n",
    "plt.show()"
   ]
  },
  {
   "cell_type": "code",
   "execution_count": null,
   "id": "92c95461-ea1b-4099-a4f3-e68363c7e7bc",
   "metadata": {
    "tags": []
   },
   "outputs": [],
   "source": [
    "corr = seoul_crime.corr()"
   ]
  },
  {
   "cell_type": "code",
   "execution_count": null,
   "id": "4d509d8a-225b-4501-9996-81e6e099fa47",
   "metadata": {
    "tags": []
   },
   "outputs": [],
   "source": [
    "corr"
   ]
  },
  {
   "cell_type": "code",
   "execution_count": null,
   "id": "563d570a-b835-40c3-89f1-9a170cce7ee9",
   "metadata": {
    "tags": []
   },
   "outputs": [],
   "source": [
    "plt.figure(figsize=(10, 8))\n",
    "sns.heatmap(corr, cmap = \"RdBu_r\", annot=False)\n",
    "plt.show()"
   ]
  },
  {
   "cell_type": "code",
   "execution_count": null,
   "id": "710ed90b-6bd9-4384-bd4a-64e6d6d38f83",
   "metadata": {},
   "outputs": [],
   "source": []
  }
 ],
 "metadata": {
  "kernelspec": {
   "display_name": "Python 3 (ipykernel)",
   "language": "python",
   "name": "python3"
  },
  "language_info": {
   "codemirror_mode": {
    "name": "ipython",
    "version": 3
   },
   "file_extension": ".py",
   "mimetype": "text/x-python",
   "name": "python",
   "nbconvert_exporter": "python",
   "pygments_lexer": "ipython3",
   "version": "3.11.3"
  }
 },
 "nbformat": 4,
 "nbformat_minor": 5
}
